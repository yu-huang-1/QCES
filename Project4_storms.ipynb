{
  "cells": [
    {
      "cell_type": "markdown",
      "metadata": {
        "id": "mUh68lb08-1P"
      },
      "source": [
        "<a href=\"https://colab.research.google.com/github/johnryantaylor/QCES/blob/main/Project4_storms.ipynb\" target=\"_parent\"><img src=\"https://colab.research.google.com/assets/colab-badge.svg\" alt=\"Open In Colab\"/></a>"
      ]
    },
    {
      "cell_type": "markdown",
      "metadata": {
        "id": "hkZ4D-NA8-1S"
      },
      "source": [
        "# Project 4: Storms\n",
        "In this project, we will use Dedalus to solve the 2-layer quasi-geostrophic equations to model the development of atmospheric storm systems.\n",
        "\n",
        "The two-layer quasi-geostrophic (QG) equations describe the motion of two vertically-stacked shallow layers of fluid in the limit where the Rossby number, $Ro=U/fL$ is small, where $U$ is a characteristic velocity scale, $L$ is a characteristic horizontal lengthscale, and $f$ is the Coriolis parameter. Here, we will use `1` to refer to quantitites in the upper layer and `2` to refer to quantities in the lower layer.\n",
        "\n",
        "The fluid in the upper layer is lighter than the fluid in the lower layer (such that $\\rho_1<\\rho_2$). When the interface separating the upper and lower layers isn't flat, the varying thicknesses of the upper and lower layers implies that there are horizontal gradients in the hydrostatic pressure. When the Rossby number is small, $Ro\\ll 1$, the flow will tend to be close to geostrophic balance a velocity difference between the upper and lower layer that balances the horizontal pressure gradients.\n",
        "\n",
        "Student tasks are in [Section 1.5](#section1pt5), [Section 2.3](#section2pt3), and [Section 3.1](#section3pt1)."
      ]
    },
    {
      "cell_type": "markdown",
      "metadata": {
        "id": "cwrjGMam8-1S"
      },
      "source": [
        "## 1. Two-layer quasi-geostrophic equations in a periodic box\n",
        "\n",
        "In this section we will solve a non-dimensional version of the two-layer QG equations in Cartesian coordinates. Let $+x$ denote the eastwards direction and $+y$ denote the northwards direction. We start with a flow in geostrophic balance where the velocity is constant in each layer. Let $U \\hat{\\mathbf{x}}$ denote the velocity in the top layer and $-U \\hat{\\mathbf{x}}$ denote the velocity in the bottom layer. Geostrophic balance then implies that the interface has a constant, non-zero slope. We will invoke the so-called \"beta-plane\" approximation and make the Coriolis parameter a linear function of $y$.\n",
        "\n",
        "In this section we solve for the departures to the background state described above. We let $q_1$ and $q_2$ denote the perturbation QG potential vorticity and $\\psi_1$ and $\\psi_2$ denote the perturbation streamfunction. Although the background state is not periodic, we apply periodic boundary conditions in $x$ and $y$ to the perturbation quantities. This has the effect of maintaining the north/south potential vorticity gradient associated with the background state.\n",
        "\n",
        "### 1.1 Governing equations\n",
        "\n",
        "The script below solves the following equations:\n",
        "\n",
        "$$ \\partial_t(q_1) + U \\partial_x(q_1) + \\frac{2U}{R_{d1}^2}\\partial_x(\\psi_1)-\\nu \\nabla^2 q_1 = - J(\\psi_1, q_1), $$\n",
        "\n",
        "$$ \\partial_t(q_2) - U \\partial_x(q_2) - \\frac{2U}{R_{d2}^2}\\partial_x(\\psi_2)-\\nu \\nabla^2 q_2 = - J(\\psi_2, q_2), $$\n",
        "\n",
        "where $R_{d1,2}=\\sqrt{g'H_{1,2}}/f_0$ is the internal deformation radius in each layer, $g'=(\\rho_2-\\rho_1)/\\rho_0$ is the reduced gravity, $\\rho_0$ is a reference density, $J(a,b)=\\partial_x(a)\\partial_y(b) - \\partial_y(a)\\partial_x(b)$ is the Jacobian operator and $\\nu$ is a viscosity which is added to keep the model stable.\n",
        "\n",
        "In addition to the equations above, two other equations relate the perturbation potential vorticity and streamfunctions:\n",
        "\n",
        "$$q_1=\\nabla^2\\psi_1 - \\frac{\\psi_1-\\psi_2}{R_{d1}^2}, $$\n",
        "$$q_2=\\nabla^2\\psi_2 + \\frac{\\psi_1-\\psi_2}{R_{d2}^2}. $$\n",
        "\n",
        "### 1.2 Tau method\n",
        "\n",
        "The equations above are invariant to a constant added to $\\psi_1-\\psi_2$. Therefore, there are infinitely many solutions to the above equations and the coefficient matrix associated with the discretized equations will be singular. To avoid this, we can add an extra equation to the system to set this constant offset. Here, we do this by including the following equation:\n",
        "\n",
        "$$ \\int\\int \\psi_1 dxdy = 0 $$\n",
        "\n",
        "which in effect ensures that the spatial mean of $\\psi_1$ is zero. The problem now is that we have five equations for four unknowns. One fix is to include another unknown in our system. We will include a constant called $\\tau_{\\psi1}$ and we will add it to the equation relating the upper layer QG potential voricity and streamfunction which then becomes:\n",
        "\n",
        "$$q_1=\\nabla^2\\psi_1 - \\frac{\\psi_1-\\psi_2}{R_{d1}^2} + \\tau_{\\psi1}. $$\n",
        "\n",
        "Since adding a constant to the potential vorticity and streamfunction doesn't have any impact on the dynamics of the system, adding $\\tau_{\\psi1}$ here won't cause any problems and we now have a fully constained set of equations.\n"
      ]
    },
    {
      "cell_type": "markdown",
      "metadata": {
        "id": "frwOxVGD8-1T"
      },
      "source": [
        "### 1.3 Dedalus script\n",
        "\n",
        "The script below solves the 2-layer QG equations given above with non-dimensional parameters. Note that the velocity gets faster as the simulation progresses. If you find that the code blows up (returns NaNs and a white screen), try reducing the timestep."
      ]
    },
    {
      "cell_type": "code",
      "execution_count": null,
      "metadata": {
        "id": "G_fesXUE8-1T"
      },
      "outputs": [],
      "source": [
        "# # Code to solve the two-layer shallow water quasi-geostrophic equations\n",
        "\n",
        "# Import the required packages\n",
        "import numpy as np\n",
        "import dedalus.public as dedalus\n",
        "import logging\n",
        "import matplotlib.pyplot as plt\n",
        "\n",
        "logger = logging.getLogger(__name__)\n",
        "\n",
        "# Set the non-dimensional parameters\n",
        "Nx = 64 # Number of gridpoints in x\n",
        "Ny = 64 # Number of gridpoints in y\n",
        "Lx = 100 # Domain size in x\n",
        "Ly = 100 # Domain size in y\n",
        "Rd1 = 3 # Deformation radius in layer 1\n",
        "Rd2 = 3 # Deformation radius in layer 2\n",
        "U = 1 # Background velocity in layer 1\n",
        "\n",
        "#Set the hypervisocisty based on the grid spacing\n",
        "delx = Lx/Nx\n",
        "nu = 0.2\n",
        "\n",
        "# Set the timestep based on the CFL criterion\n",
        "timestep = 0.5*Lx/Nx/U/100 # This is just an estimate based on the background velocity\n",
        "stop_sim_time = 70\n",
        "\n",
        "# Bases\n",
        "coords = dedalus.CartesianCoordinates('x', 'y')\n",
        "dist = dedalus.Distributor(coords, dtype=np.float64)\n",
        "xbasis = dedalus.RealFourier(coords['x'], size=Nx, bounds=(0, Lx), dealias=3/2)\n",
        "ybasis = dedalus.RealFourier(coords['y'], size=Ny, bounds=(0, Ly), dealias=3/2)\n",
        "\n",
        "# Define the coordinates\n",
        "x, y = dist.local_grids(xbasis, ybasis)\n",
        "\n",
        "# Define the fields\n",
        "# Here psi is the streamfunction and q is the QG potential vorticity\n",
        "# \"1\" corresponds to the upper layer and \"2\" corresponds to the lower layer\n",
        "psi1 = dist.Field(name='psi1', bases=(xbasis, ybasis))\n",
        "psi2 = dist.Field(name='psi2', bases=(xbasis, ybasis))\n",
        "q1 = dist.Field(name='q1', bases=(xbasis, ybasis))\n",
        "q2 = dist.Field(name='q2', bases=(xbasis, ybasis))\n",
        "tau_psi1 = dist.Field(name='tau_psi1')\n",
        "\n",
        "# Set the initial conditions\n",
        "q1.fill_random('g', seed=42, distribution='normal', scale=1e-3) # Random noise\n",
        "q2.fill_random('g', seed=42, distribution='normal', scale=1e-3) # Random noise\n",
        "\n",
        "# Define the operators that will be used to write the equations\n",
        "dx = lambda A: dedalus.Differentiate(A, coords['x'])\n",
        "dy = lambda A: dedalus.Differentiate(A, coords['y'])\n",
        "lap = lambda A: dedalus.Laplacian(A)\n",
        "J = lambda A, B: dx(A)*dy(B)-dy(A)*dx(B)\n",
        "integ = lambda A: dedalus.Integrate(A, ('x', 'y'))\n",
        "\n",
        "# Define problem\n",
        "problem = dedalus.IVP([q1, q2, psi1, psi2, tau_psi1], namespace=locals())\n",
        "\n",
        "# First, add the two equations for the evolution of the QG potential vorticity\n",
        "problem.add_equation(\"dt(q1) + U*dx(q1) + (2*U/Rd1**2.0)*dx(psi1) - nu*lap(q1) = - dx(psi1)*dy(q1) + dy(psi1)*dx(q1)\")\n",
        "problem.add_equation(\"dt(q2) - U*dx(q2) - (2*U/Rd2**2.0)*dx(psi2) - nu*lap(q2) = - dx(psi2)*dy(q2) + dy(psi2)*dx(q2)\")\n",
        "\n",
        "problem.add_equation(\"lap(psi1)-(psi1-psi2)/(Rd1**2.0)+tau_psi1=q1\")\n",
        "problem.add_equation(\"lap(psi2)+(psi1-psi2)/(Rd2**2.0)=q2\")\n",
        "\n",
        "problem.add_equation(\"integ(psi1) = 0\")\n",
        "\n",
        "# Now, set the solver\n",
        "solver = problem.build_solver(dedalus.RK443)\n",
        "solver.stop_sim_time = stop_sim_time\n",
        "\n",
        "psi1.change_scales(1)\n",
        "psi2.change_scales(1)\n",
        "q1.change_scales(1)\n",
        "q2.change_scales(1)\n",
        "psi1_save = [np.copy(psi1['g'])];\n",
        "psi2_save = [np.copy(psi2['g'])];\n",
        "q1_save = [np.copy(q1['g'])];\n",
        "q2_save = [np.copy(q2['g'])];\n",
        "t_save = [solver.sim_time]; # Save the initial condition and the initial time\n",
        "# Main loop\n",
        "try:\n",
        "    logger.info('Starting main loop')\n",
        "    while solver.proceed:\n",
        "        solver.step(timestep)\n",
        "        if (solver.iteration-1) % 10 == 0:\n",
        "            logger.info('Iteration=%i, Time=%e, dt=%e' %(solver.iteration, solver.sim_time, timestep))\n",
        "            psi1.change_scales(1)\n",
        "            psi2.change_scales(1)\n",
        "            psi1_save.append(np.copy(psi1['g']))\n",
        "            psi2_save.append(np.copy(psi2['g']))\n",
        "            q1.change_scales(1)\n",
        "            q2.change_scales(1)\n",
        "            q1_save.append(np.copy(q1['g']))\n",
        "            q2_save.append(np.copy(q2['g']))\n",
        "            t_save.append(solver.sim_time)\n",
        "except:\n",
        "    logger.error('Exception raised, triggering end of main loop.')\n",
        "    raise\n",
        "finally:\n",
        "    solver.log_stats()\n",
        "\n",
        "# Convert the variables to numpy arrays for allow array slicing\n",
        "psi1_save = np.array(psi1_save)\n",
        "psi2_save = np.array(psi2_save)\n",
        "q1_save = np.array(q1_save)\n",
        "q2_save = np.array(q2_save)"
      ]
    },
    {
      "cell_type": "markdown",
      "metadata": {
        "id": "56q0Jr-m8-1U"
      },
      "source": [
        "### 1.4 Visualization\n",
        "The script below will make a movie showing the evolution of $\\psi_2-\\psi_1$, which is proportional to the displacement of the interior interface."
      ]
    },
    {
      "cell_type": "code",
      "execution_count": null,
      "metadata": {
        "id": "eaEwzz1K8-1U"
      },
      "outputs": [],
      "source": [
        "# create a figure and axes\n",
        "fig = plt.figure(figsize=(6,6))\n",
        "\n",
        "# Create arrays with the latitude and longitude coordinates for plotting using pcolor\n",
        "from dedalus.extras import plot_tools\n",
        "(X, Y) = plot_tools.quad_mesh(np.squeeze(x), np.squeeze(y))\n",
        "\n",
        "# Define an animation function\n",
        "def drawframe(n):\n",
        "    plt.clf()\n",
        "    streamfunction = plt.pcolor(X, Y, (psi2_save[n,:,:].T-psi1_save[n,:,:].T))\n",
        "    # Specify the axis limits and labels\n",
        "    plt.xlim(0, Lx)\n",
        "    plt.ylim(0, Ly)\n",
        "    plt.colorbar()\n",
        "    plt.xlabel('x')\n",
        "    plt.ylabel('y')\n",
        "    plt.title('psi2-psi1, time = {0:.2f}'.format(t_save[n]))\n",
        "    return (streamfunction,)\n",
        "\n",
        "from matplotlib import animation\n",
        "# blit=True re-draws only the parts that have changed.\n",
        "anim = animation.FuncAnimation(fig, drawframe, frames=len(t_save), interval=40, blit=True)\n",
        "\n",
        "from IPython.display import HTML\n",
        "HTML(anim.to_html5_video())"
      ]
    },
    {
      "cell_type": "markdown",
      "metadata": {
        "id": "kkb4mYve8-1V"
      },
      "source": [
        "### 1.5 Student investigation\n",
        "<a id='section1pt5'></a>\n",
        "In lectures, we found growing solutions of the form\n",
        "\n",
        "$$ \\psi_{1,2}=Re\\left[\\hat{\\psi}_{1,2}e^{ikx+\\sigma t}\\right], $$\n",
        "\n",
        "where\n",
        "\n",
        "$$ \\sigma = Uk \\left(\\frac{2/R_d^2-k^2}{2/R_d^2+k^2}\\right)^{1/2}, $$\n",
        "\n",
        "is the exponential growth rate, $R_d=\\sqrt{g'H}/f_0$ is the deformation radius in each layer, and $k$ is the wavenumber in the $x$ direction where $\\lambda=2\\pi/k$ is the wavelength.\n",
        "\n",
        "In the box below, compare the result of the simulation with what you would expect based on the growth rate given above. Comment on the possible reasons for any differences. Discuss the behaviour of the flow in the simulation at later times and comment on the relevance to storms in the atmosphere."
      ]
    },
    {
      "cell_type": "markdown",
      "metadata": {
        "id": "0Zg4eet68-1V"
      },
      "source": [
        "INSERT COMMENTS HERE, ~ 1 PARAGRAPH WITH OPTIONAL PLOT(S)"
      ]
    },
    {
      "cell_type": "markdown",
      "metadata": {
        "id": "bqHTEf5C8-1V"
      },
      "source": [
        "## 2. Jet stream and the dimensional QG equations\n",
        "\n",
        "The configuration in the previous section illustrates baroclinic instability, but the setup is quite idealized. In particular, we assumed that the Coriolis parameter and the initial velocity were constant. In the atmosphere there is are strong winds at the top of the troposphere in a band called the jet stream. The jet stream is several hundred kilometers wide with wind speeds that can exceed 100 miles per hour (roughly 50 m/s). A variable Coriolis parameter is important for constraining the jet dynamics. If we use $f=f_0+\\beta y$, then the equations for $q_1$ and $q_2$ become:\n",
        "\n",
        "$$ \\partial_t(q_1) + U_1 \\partial_x(q_1) + \\partial_x(\\psi_1)\\left(\\beta + \\frac{U_1-U_2}{R_{d1}^2}\\right)+\\nu_4 \\nabla^4 q_1 = - J(\\psi_1, q_1), $$\n",
        "\n",
        "$$ \\partial_t(q_2) + U_2 \\partial_x(q_2) + \\partial_x(\\psi_2)\\left(\\beta + \\frac{U_2-U_1}{R_{d2}^2}\\right)+\\nu_4 \\nabla^4 q_2 = - J(\\psi_2, q_2). $$\n",
        "\n",
        "Here, we have also switched from a viscous term to a 'hyperviscous' term, where $-\\nabla^2 q_{1,2}$ has been replaced by $\\nabla^4 q_{1,2}$ where $\\nabla^4=(\\nabla^2)^2=(\\partial^2_x+\\partial^2_y)^2$. Using a hyperviscosity is useful because it acts to preferentially damp small scale motions (with large horizontal wavenumbers), while having less influence on the larger scale motions (with small horizontal wavenumbers). It is useful in this case since we would like the jet not to be strongly influenced by viscosity.\n",
        "\n",
        "We can simulate baroclinic instability on the jet stream by localizing the north/south gradient in the QG potential voriticty in the center of our computational domain. However, since our boundary conditions are periodic, we need the potential vorticity that we solve for to be equal at the northern and southern boundaries. We can accomplish this with the following trick. For our initial condition, let the total potential vorticity in layer 1 be:\n",
        "\n",
        "$$ q_1 = Q_1 tanh\\left(\\frac{y-Ly/2}{w}\\right) $$\n",
        "\n",
        "where $Ly$ is the domain size, $Q_1$ is a constant dimensional amplitude and $w$ is the jet width. Clearly $q_1$ isn't periodic in the y-direction. Instead, we can impose a uniform background potential vorticity gradient (as we did in Section 1 above) and solve for the departure from this background gradient. We can then set the amplitude of the background gradient to make the <em>departure</em> from the background gradient periodic. Specifically, the departure from the background potential vorticity gradient will be:\n",
        "\n",
        "$$ q_1 = Q_1 (tanh\\left(\\frac{y-Ly/2}{w}\\right) - \\frac{y-Ly/2}{Ly/2}) $$\n",
        "\n",
        "which is periodic in $y$ (check for yourself if you aren't sure), and the background potential voricity gradient will be $2Q_1/Ly$ which then ensures that the total PV is the tanh function defined above."
      ]
    },
    {
      "cell_type": "markdown",
      "metadata": {
        "id": "1hVF6Ewk8-1V"
      },
      "source": [
        "### 2.1 Dedalus script\n",
        "\n",
        "The script below sets up and solves the 2-layer QG equations in dimensional units (kilometers for x, y and seconds for time). The size of the box is 30,000 km in the x-direction and 10,000 km in the y-direction. This roughly corresponds to the Northern Hemisphere, although it is important to note that the analogy is only approximate since we are still solvin the equations in a Cartesian geometry and not a sphere.\n",
        "\n",
        "Run the script below and comment on the results and the behavior of the jet stream in the text box below the script. You can also try changing some of the parameters at the top of the script to see how the result change.\n",
        "\n",
        "Note that the script will likely take a few minutes to run.  Coordinate with the other members of your group so that you can each run a different case."
      ]
    },
    {
      "cell_type": "code",
      "execution_count": null,
      "metadata": {
        "id": "IoFh_QU58-1W"
      },
      "outputs": [],
      "source": [
        "# Code to solve the two-layer shallow water quasi-geostrophic equations\n",
        "\n",
        "# Import the required packages\n",
        "import numpy as np\n",
        "import dedalus.public as dedalus\n",
        "import logging\n",
        "import matplotlib.pyplot as plt\n",
        "\n",
        "logger = logging.getLogger(__name__)\n",
        "\n",
        "# Set the non-dimensional parameters\n",
        "Nx = 96 # Number of gridpoints in x\n",
        "Ny = 32 # Number of gridpoints in y\n",
        "Lx = 30e3 # Domain size in x in km\n",
        "Ly = 10e3 # Domain size in y in km\n",
        "Rd1 = 500 # Deformation radius in layer 1 in km\n",
        "Rd2 = 500 # Deformation radius in layer 2 in km\n",
        "U1 = 10/1000 # Background velocity in layer 1 in km/s\n",
        "U2 = 0 # Background velocity in layer 2 in km/s\n",
        "beta = 2e-11*1000 # beta = df/dy, the North/South gradient of the Coriolis parameter in 1/km/s\n",
        "jet_width = 200\n",
        "\n",
        "#Set the hypervisocisty based on the grid spacing\n",
        "delx = Lx/Nx\n",
        "nu4 = 1e-6*delx**4\n",
        "\n",
        "# Set the timestep based on the CFL criterion\n",
        "timestep = 0.5*Lx/Nx/max(U1,U2)/20\n",
        "stop_sim_time = 2e6\n",
        "timestepper = dedalus.RK443\n",
        "\n",
        "# Bases\n",
        "coords = dedalus.CartesianCoordinates('x', 'y')\n",
        "dist = dedalus.Distributor(coords, dtype=np.float64)\n",
        "xbasis = dedalus.RealFourier(coords['x'], size=Nx, bounds=(0, Lx), dealias=3/2)\n",
        "ybasis = dedalus.RealFourier(coords['y'], size=Ny, bounds=(0, Ly), dealias=3/2)\n",
        "\n",
        "# Define the coordinates\n",
        "x, y = dist.local_grids(xbasis, ybasis)\n",
        "\n",
        "# Define the fields\n",
        "# Here psi is the streamfunction and q is the QG potential vorticity\n",
        "# \"1\" corresponds to the upper layer and \"2\" corresponds to the lower layer\n",
        "psi1 = dist.Field(name='psi1', bases=(xbasis, ybasis))\n",
        "psi2 = dist.Field(name='psi2', bases=(xbasis, ybasis))\n",
        "q1 = dist.Field(name='q1', bases=(xbasis, ybasis))\n",
        "q2 = dist.Field(name='q2', bases=(xbasis, ybasis))\n",
        "u1 = dist.Field(name='u1', bases=(xbasis, ybasis))\n",
        "v1 = dist.Field(name='v1', bases=(xbasis, ybasis))\n",
        "tau_psi1 = dist.Field(name='tau_psi1')\n",
        "\n",
        "# Create functions to use for the initial conditions and forcing\n",
        "# Here, q1_ic and q2_ic are departures from the basic state with a linear gradient\n",
        "q1_ic = dist.Field(name='q1_ic', bases=(xbasis, ybasis))\n",
        "q2_ic = dist.Field(name='q2_ic', bases=(xbasis, ybasis))\n",
        "q1_ic['g'] = (Ly/2) * ((U1-U2)/Rd1**2.0) * (np.tanh((y-Ly/2)/jet_width) - (y-Ly/2)/(Ly/2))\n",
        "q2_ic['g'] = (Ly/2) * ((U2-U1)/Rd2**2.0) * (np.tanh((y-Ly/2)/jet_width) - (y-Ly/2)/(Ly/2))\n",
        "\n",
        "# Set the initial conditions\n",
        "q1['g'] = (Ly/2) * ((U1-U2)/Rd1**2.0) * (np.tanh((y-Ly/2)/jet_width) - (y-Ly/2)/(Ly/2))\n",
        "q2['g'] = (Ly/2) * ((U2-U1)/Rd2**2.0) * (np.tanh((y-Ly/2)/jet_width) - (y-Ly/2)/(Ly/2))\n",
        "# Now, add some random noise\n",
        "q1p = dist.Field(name='q1', bases=(xbasis, ybasis))\n",
        "q2p = dist.Field(name='q2', bases=(xbasis, ybasis))\n",
        "q1p.fill_random('g', seed=42, distribution='normal', scale=1e-6) # Random noise\n",
        "q2p.fill_random('g', seed=42, distribution='normal', scale=1e-6) # Random noise\n",
        "q1['g'] += q1p['g']\n",
        "q2['g'] += q2p['g']\n",
        "\n",
        "# Define the operators that will be used to write the equations\n",
        "dx = lambda A: dedalus.Differentiate(A, coords['x'])\n",
        "dy = lambda A: dedalus.Differentiate(A, coords['y'])\n",
        "lap = lambda A: dedalus.Laplacian(A)\n",
        "J = lambda A, B: dx(A)*dy(B)-dy(A)*dx(B)\n",
        "integ = lambda A: dedalus.Integrate(A, ('x', 'y'))\n",
        "del4 = lambda A: lap(lap(A))\n",
        "\n",
        "# Define problem\n",
        "problem = dedalus.IVP([q1, q2, psi1, psi2, tau_psi1], namespace=locals())\n",
        "# Define Laplacian and Jacobian operators (to make equations easier to read)\n",
        "\n",
        "# Define problem\n",
        "problem = dedalus.IVP([q1, q2, psi1, psi2, u1, v1, tau_psi1], namespace=locals())\n",
        "\n",
        "# First, add the two equations for the evolution of the QG potential vorticity\n",
        "problem.add_equation(\"dt(q1) + U1*dx(q1) + dx(psi1)*(beta+(U1-U2)/(Rd1**2.0)) + nu4*del4(q1) = - dx(psi1)*dy(q1) + dy(psi1)*dx(q1)\")\n",
        "problem.add_equation(\"dt(q2) + U2*dx(q2) + dx(psi2)*(beta+(U2-U1)/(Rd2**2.0)) + nu4*del4(q2) = - dx(psi2)*dy(q2) + dy(psi2)*dx(q2)\")\n",
        "problem.add_equation(\"lap(psi1)-(psi1-psi2)/(Rd1**2.0)+tau_psi1=q1\")\n",
        "problem.add_equation(\"lap(psi2)+(psi1-psi2)/(Rd2**2.0)=q2\")\n",
        "\n",
        "problem.add_equation(\"u1 = -dy(psi1)\")\n",
        "problem.add_equation(\"v1 = dx(psi1)\")\n",
        "\n",
        "problem.add_equation(\"integ(psi1) = 0\")\n",
        "\n",
        "# Now, set the solver\n",
        "solver = problem.build_solver(timestepper)\n",
        "solver.stop_sim_time = stop_sim_time\n",
        "\n",
        "psi1.change_scales(1)\n",
        "psi2.change_scales(1)\n",
        "q1.change_scales(1)\n",
        "q2.change_scales(1)\n",
        "psi1_save = [np.copy(psi1['g'])];\n",
        "psi2_save = [np.copy(psi2['g'])];\n",
        "q1_save = [np.copy(q1['g'])];\n",
        "q2_save = [np.copy(q2['g'])];\n",
        "\n",
        "# Save the upper layer velocity for later plotting and analysis\n",
        "u1.change_scales(1)\n",
        "u1_save = [np.copy(u1['g'])]\n",
        "v1.change_scales(1)\n",
        "v1_save = [np.copy(v1['g'])]\n",
        "\n",
        "t_save = [solver.sim_time]; # Save the initial condition and the initial time\n",
        "# Main loop\n",
        "try:\n",
        "    logger.info('Starting main loop')\n",
        "    while solver.proceed:\n",
        "        solver.step(timestep)\n",
        "        if (solver.iteration-1) % 20 == 0:\n",
        "            logger.info('Iteration=%i, Time=%e, dt=%e' %(solver.iteration, solver.sim_time, timestep))\n",
        "            psi1.change_scales(1)\n",
        "            psi2.change_scales(1)\n",
        "            psi1_save.append(np.copy(psi1['g']))\n",
        "            psi2_save.append(np.copy(psi2['g']))\n",
        "            q1.change_scales(1)\n",
        "            q2.change_scales(1)\n",
        "            q1_save.append(np.copy(q1['g']))\n",
        "            q2_save.append(np.copy(q2['g']))\n",
        "\n",
        "            u1.change_scales(1)\n",
        "            u1_save.append(np.copy(u1['g']))\n",
        "            v1.change_scales(1)\n",
        "            v1_save.append(np.copy(v1['g']))\n",
        "\n",
        "            t_save.append(solver.sim_time)\n",
        "except:\n",
        "    logger.error('Exception raised, triggering end of main loop.')\n",
        "    raise\n",
        "finally:\n",
        "    solver.log_stats()\n",
        "\n",
        "# Convert the variables to numpy arrays for allow array slicing\n",
        "psi1_save = np.array(psi1_save)\n",
        "psi2_save = np.array(psi2_save)\n",
        "q1_save = np.array(q1_save)\n",
        "q2_save = np.array(q2_save)\n",
        "u1_save = np.array(u1_save)\n",
        "v1_save = np.array(v1_save)\n"
      ]
    },
    {
      "cell_type": "markdown",
      "metadata": {
        "id": "DH6YW3dn8-1W"
      },
      "source": [
        "### 2.2 Visualization\n",
        "\n",
        "The script below will visualize the results and create a movie showing the upper layer wind speed (the magnitude of the velocity vector (u1, v1))."
      ]
    },
    {
      "cell_type": "code",
      "execution_count": null,
      "metadata": {
        "id": "djm0nI2J8-1W"
      },
      "outputs": [],
      "source": [
        "# Create a movie of the results\n",
        "\n",
        "# Create a figure and axes\n",
        "fig = plt.figure(figsize=(6,6))\n",
        "\n",
        "# Create arrays with the latitude and longitude coordinates for plotting using pcolor\n",
        "from dedalus.extras import plot_tools\n",
        "(X, Y) = plot_tools.quad_mesh(np.squeeze(x), np.squeeze(y))\n",
        "(X_mesh, Y_mesh) = plot_tools.quad_mesh(np.squeeze(x[1:Nx]), np.squeeze(y[0,1:Ny]))\n",
        "\n",
        "# Define an animation function\n",
        "def drawframe(n):\n",
        "    plt.clf()\n",
        "    wind_speed = plt.pcolor(X, Y, np.sqrt(np.square(u1_save[n,:,:].T)+np.square(v1_save[n,:,:].T))*1000)#, vmin=0, vmax=100)\n",
        "    # Specify the axis limits and labels\n",
        "    plt.axis('square')\n",
        "    plt.xlabel('x (km)')\n",
        "    plt.ylabel('y (km)')\n",
        "    plt.xlim(0, Lx)\n",
        "    plt.ylim(0, Ly)\n",
        "    plt.colorbar()\n",
        "    plt.title('upper layer wind speed (m/s), time = {0:.2f} days'.format(t_save[n]/3600/24))\n",
        "    return (wind_speed,)\n",
        "\n",
        "from matplotlib import animation\n",
        "# blit=True re-draws only the parts that have changed.\n",
        "anim = animation.FuncAnimation(fig, drawframe, frames=len(t_save), interval=40, blit=True)\n",
        "\n",
        "from IPython.display import HTML\n",
        "HTML(anim.to_html5_video())"
      ]
    },
    {
      "cell_type": "markdown",
      "metadata": {
        "id": "c4Rq1-0y8-1W"
      },
      "source": [
        "### 2.3 Student investigation\n",
        "<a id='section2pt3'></a>\n",
        "Describe the results in the box below. To what extent are the results qualitatively different from what you saw using the previous script? Comment on the interaction between the jet and the storms. Which features in the simulation do you think occur in the atmosphere? Do you see any features in the simulation that you think are unrealistic? If so, explain why you think those features are unrealistic."
      ]
    },
    {
      "cell_type": "markdown",
      "metadata": {
        "id": "qS4hZT8P8-1W"
      },
      "source": [
        "ADD COMMENTS HERE (1-2 PARAGRAPHS). NO NEED FOR PLOTS, BUT YOU CAN INCLUDE THEM IF YOU WANT."
      ]
    },
    {
      "cell_type": "markdown",
      "metadata": {
        "id": "PRFaeCrs8-1X"
      },
      "source": [
        "# 3. Forced QG flow\n",
        "\n",
        "In the atmosphere, differential heating between the equator and poles maintains a north/south temperature gradient. This temperature gradient is represented by the north/south gradient in layer heights and potential vorticity in the 2-layer QG model. We can represent differential heating and cooling in the 2-layer QG model by adding terms that 'relax' the potential vorticity back to a prescribed field."
      ]
    },
    {
      "cell_type": "markdown",
      "metadata": {
        "id": "uebtF-sk8-1X"
      },
      "source": [
        "### 3.1 Student investigation\n",
        "<a id='section3pt1'></a>\n",
        "\n",
        "In the code box below, copy the code from Part 2 and modify it to include the following terms:\n",
        "$$ \\frac{\\partial q_1}{\\partial t} + \\ldots = \\ldots - \\frac{1}{\\tau}\\left(q_1 - q_1(t=0)\\right) $$\n",
        "\n",
        "$$ \\frac{\\partial q_2}{\\partial t} + \\ldots = \\ldots - \\frac{1}{\\tau}\\left(q_2 - q_2(t=0)\\right) $$\n",
        "\n",
        "where $q_i(t=0)$ are the initial conditions (q1_ic and q2_ic in the script) and $\\tau$ is a timescale which you should specify. A timescale of $\\tau=36$ hours should be a good starting point. In the absence of any other terms, this additional forcing term will cause $q_1$ and $q_2$ to 'relax' exponentially back to the initial conditions with an e-folding timescale equal to $\\tau$.\n",
        "\n",
        "Climate change is expected to reduce the equator to pole temperature contrast as the high latitudes warm faster than the rest of the planet. This will have impacts on the intensity and dynamics of storms. Experiment with this by changing the pole to equator gradient in the prescribed initial potential vorticity. Specify which dimensional parameter you chose to vary and discuss how it relates to the north/south temperature gradient. What happens to the jet stream and the storms as you reduce the potential vorticity gradient?"
      ]
    },
    {
      "cell_type": "code",
      "execution_count": null,
      "metadata": {
        "id": "RQTqZtQT8-1X"
      },
      "outputs": [],
      "source": [
        "# Copy and paste the code from section 2.1 here and modify to add the relaxation terms.\n",
        "# Also, paste the code to visualize the results (or create a new code box below)"
      ]
    },
    {
      "cell_type": "markdown",
      "metadata": {
        "id": "Ue7M6afB8-1X"
      },
      "source": [
        "INSERT COMMENTS HERE"
      ]
    }
  ],
  "metadata": {
    "kernelspec": {
      "display_name": "dedalus3",
      "language": "python",
      "name": "python3"
    },
    "language_info": {
      "codemirror_mode": {
        "name": "ipython",
        "version": 3
      },
      "file_extension": ".py",
      "mimetype": "text/x-python",
      "name": "python",
      "nbconvert_exporter": "python",
      "pygments_lexer": "ipython3",
      "version": "3.12.2"
    },
    "colab": {
      "provenance": []
    }
  },
  "nbformat": 4,
  "nbformat_minor": 0
}